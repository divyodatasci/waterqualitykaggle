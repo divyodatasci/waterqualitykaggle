{
 "cells": [
  {
   "cell_type": "code",
   "execution_count": 1,
   "id": "6fd3e172",
   "metadata": {
    "_cell_guid": "b1076dfc-b9ad-4769-8c92-a6c4dae69d19",
    "_uuid": "8f2839f25d086af736a60e9eeb907d3b93b6e0e5",
    "execution": {
     "iopub.execute_input": "2021-08-07T10:04:29.095368Z",
     "iopub.status.busy": "2021-08-07T10:04:29.094752Z",
     "iopub.status.idle": "2021-08-07T10:04:29.108951Z",
     "shell.execute_reply": "2021-08-07T10:04:29.109755Z",
     "shell.execute_reply.started": "2021-08-05T21:47:37.537695Z"
    },
    "papermill": {
     "duration": 0.044375,
     "end_time": "2021-08-07T10:04:29.110154",
     "exception": false,
     "start_time": "2021-08-07T10:04:29.065779",
     "status": "completed"
    },
    "tags": []
   },
   "outputs": [
    {
     "name": "stdout",
     "output_type": "stream",
     "text": [
      "/kaggle/input/water-potability/water_potability.csv\n"
     ]
    }
   ],
   "source": [
    "# This Python 3 environment comes with many helpful analytics libraries installed\n",
    "# It is defined by the kaggle/python Docker image: https://github.com/kaggle/docker-python\n",
    "# For example, here's several helpful packages to load\n",
    "\n",
    "import numpy as np # linear algebra\n",
    "import pandas as pd # data processing, CSV file I/O (e.g. pd.read_csv)\n",
    "\n",
    "# Input data files are available in the read-only \"../input/\" directory\n",
    "# For example, running this (by clicking run or pressing Shift+Enter) will list all files under the input directory\n",
    "\n",
    "import os\n",
    "for dirname, _, filenames in os.walk('/kaggle/input'):\n",
    "    for filename in filenames:\n",
    "        print(os.path.join(dirname, filename))\n",
    "\n",
    "# You can write up to 20GB to the current directory (/kaggle/working/) that gets preserved as output when you create a version using \"Save & Run All\" \n",
    "# You can also write temporary files to /kaggle/temp/, but they won't be saved outside of the current session"
   ]
  },
  {
   "cell_type": "code",
   "execution_count": 2,
   "id": "f37b2cbf",
   "metadata": {
    "execution": {
     "iopub.execute_input": "2021-08-07T10:04:29.152771Z",
     "iopub.status.busy": "2021-08-07T10:04:29.152100Z",
     "iopub.status.idle": "2021-08-07T10:04:29.290088Z",
     "shell.execute_reply": "2021-08-07T10:04:29.290568Z",
     "shell.execute_reply.started": "2021-08-05T21:47:37.553858Z"
    },
    "papermill": {
     "duration": 0.160957,
     "end_time": "2021-08-07T10:04:29.290870",
     "exception": false,
     "start_time": "2021-08-07T10:04:29.129913",
     "status": "completed"
    },
    "tags": []
   },
   "outputs": [
    {
     "data": {
      "text/html": [
       "<div>\n",
       "<style scoped>\n",
       "    .dataframe tbody tr th:only-of-type {\n",
       "        vertical-align: middle;\n",
       "    }\n",
       "\n",
       "    .dataframe tbody tr th {\n",
       "        vertical-align: top;\n",
       "    }\n",
       "\n",
       "    .dataframe thead th {\n",
       "        text-align: right;\n",
       "    }\n",
       "</style>\n",
       "<table border=\"1\" class=\"dataframe\">\n",
       "  <thead>\n",
       "    <tr style=\"text-align: right;\">\n",
       "      <th></th>\n",
       "      <th>ph</th>\n",
       "      <th>Hardness</th>\n",
       "      <th>Solids</th>\n",
       "      <th>Chloramines</th>\n",
       "      <th>Sulfate</th>\n",
       "      <th>Conductivity</th>\n",
       "      <th>Organic_carbon</th>\n",
       "      <th>Trihalomethanes</th>\n",
       "      <th>Turbidity</th>\n",
       "      <th>Potability</th>\n",
       "    </tr>\n",
       "  </thead>\n",
       "  <tbody>\n",
       "    <tr>\n",
       "      <th>0</th>\n",
       "      <td>NaN</td>\n",
       "      <td>204.890455</td>\n",
       "      <td>20791.318981</td>\n",
       "      <td>7.300212</td>\n",
       "      <td>368.516441</td>\n",
       "      <td>564.308654</td>\n",
       "      <td>10.379783</td>\n",
       "      <td>86.990970</td>\n",
       "      <td>2.963135</td>\n",
       "      <td>0</td>\n",
       "    </tr>\n",
       "    <tr>\n",
       "      <th>1</th>\n",
       "      <td>3.716080</td>\n",
       "      <td>129.422921</td>\n",
       "      <td>18630.057858</td>\n",
       "      <td>6.635246</td>\n",
       "      <td>NaN</td>\n",
       "      <td>592.885359</td>\n",
       "      <td>15.180013</td>\n",
       "      <td>56.329076</td>\n",
       "      <td>4.500656</td>\n",
       "      <td>0</td>\n",
       "    </tr>\n",
       "    <tr>\n",
       "      <th>2</th>\n",
       "      <td>8.099124</td>\n",
       "      <td>224.236259</td>\n",
       "      <td>19909.541732</td>\n",
       "      <td>9.275884</td>\n",
       "      <td>NaN</td>\n",
       "      <td>418.606213</td>\n",
       "      <td>16.868637</td>\n",
       "      <td>66.420093</td>\n",
       "      <td>3.055934</td>\n",
       "      <td>0</td>\n",
       "    </tr>\n",
       "    <tr>\n",
       "      <th>3</th>\n",
       "      <td>8.316766</td>\n",
       "      <td>214.373394</td>\n",
       "      <td>22018.417441</td>\n",
       "      <td>8.059332</td>\n",
       "      <td>356.886136</td>\n",
       "      <td>363.266516</td>\n",
       "      <td>18.436524</td>\n",
       "      <td>100.341674</td>\n",
       "      <td>4.628771</td>\n",
       "      <td>0</td>\n",
       "    </tr>\n",
       "    <tr>\n",
       "      <th>4</th>\n",
       "      <td>9.092223</td>\n",
       "      <td>181.101509</td>\n",
       "      <td>17978.986339</td>\n",
       "      <td>6.546600</td>\n",
       "      <td>310.135738</td>\n",
       "      <td>398.410813</td>\n",
       "      <td>11.558279</td>\n",
       "      <td>31.997993</td>\n",
       "      <td>4.075075</td>\n",
       "      <td>0</td>\n",
       "    </tr>\n",
       "  </tbody>\n",
       "</table>\n",
       "</div>"
      ],
      "text/plain": [
       "         ph    Hardness        Solids  Chloramines     Sulfate  Conductivity  \\\n",
       "0       NaN  204.890455  20791.318981     7.300212  368.516441    564.308654   \n",
       "1  3.716080  129.422921  18630.057858     6.635246         NaN    592.885359   \n",
       "2  8.099124  224.236259  19909.541732     9.275884         NaN    418.606213   \n",
       "3  8.316766  214.373394  22018.417441     8.059332  356.886136    363.266516   \n",
       "4  9.092223  181.101509  17978.986339     6.546600  310.135738    398.410813   \n",
       "\n",
       "   Organic_carbon  Trihalomethanes  Turbidity  Potability  \n",
       "0       10.379783        86.990970   2.963135           0  \n",
       "1       15.180013        56.329076   4.500656           0  \n",
       "2       16.868637        66.420093   3.055934           0  \n",
       "3       18.436524       100.341674   4.628771           0  \n",
       "4       11.558279        31.997993   4.075075           0  "
      ]
     },
     "execution_count": 2,
     "metadata": {},
     "output_type": "execute_result"
    }
   ],
   "source": [
    "df = pd.read_csv(\"/kaggle/input/water-potability/water_potability.csv\")\n",
    "df.head()\n"
   ]
  },
  {
   "cell_type": "code",
   "execution_count": 3,
   "id": "3a876bcb",
   "metadata": {
    "execution": {
     "iopub.execute_input": "2021-08-07T10:04:29.331111Z",
     "iopub.status.busy": "2021-08-07T10:04:29.330197Z",
     "iopub.status.idle": "2021-08-07T10:04:29.339832Z",
     "shell.execute_reply": "2021-08-07T10:04:29.340387Z",
     "shell.execute_reply.started": "2021-08-05T21:47:37.597148Z"
    },
    "papermill": {
     "duration": 0.030816,
     "end_time": "2021-08-07T10:04:29.340578",
     "exception": false,
     "start_time": "2021-08-07T10:04:29.309762",
     "status": "completed"
    },
    "tags": []
   },
   "outputs": [
    {
     "data": {
      "text/plain": [
       "array([0, 1])"
      ]
     },
     "execution_count": 3,
     "metadata": {},
     "output_type": "execute_result"
    }
   ],
   "source": [
    "df['Potability'].unique()"
   ]
  },
  {
   "cell_type": "code",
   "execution_count": 4,
   "id": "033f32ff",
   "metadata": {
    "execution": {
     "iopub.execute_input": "2021-08-07T10:04:29.381060Z",
     "iopub.status.busy": "2021-08-07T10:04:29.380120Z",
     "iopub.status.idle": "2021-08-07T10:04:29.386255Z",
     "shell.execute_reply": "2021-08-07T10:04:29.385786Z",
     "shell.execute_reply.started": "2021-08-05T21:49:53.702187Z"
    },
    "papermill": {
     "duration": 0.027459,
     "end_time": "2021-08-07T10:04:29.386399",
     "exception": false,
     "start_time": "2021-08-07T10:04:29.358940",
     "status": "completed"
    },
    "tags": []
   },
   "outputs": [],
   "source": [
    "df['Potability'] = pd.Categorical(df.Potability)"
   ]
  },
  {
   "cell_type": "code",
   "execution_count": 5,
   "id": "897b7070",
   "metadata": {
    "execution": {
     "iopub.execute_input": "2021-08-07T10:04:29.428611Z",
     "iopub.status.busy": "2021-08-07T10:04:29.427929Z",
     "iopub.status.idle": "2021-08-07T10:04:29.430625Z",
     "shell.execute_reply": "2021-08-07T10:04:29.431042Z",
     "shell.execute_reply.started": "2021-08-05T21:49:59.050146Z"
    },
    "papermill": {
     "duration": 0.026553,
     "end_time": "2021-08-07T10:04:29.431248",
     "exception": false,
     "start_time": "2021-08-07T10:04:29.404695",
     "status": "completed"
    },
    "tags": []
   },
   "outputs": [
    {
     "data": {
      "text/plain": [
       "CategoricalDtype(categories=[0, 1], ordered=False)"
      ]
     },
     "execution_count": 5,
     "metadata": {},
     "output_type": "execute_result"
    }
   ],
   "source": [
    "df['Potability'].dtypes"
   ]
  },
  {
   "cell_type": "code",
   "execution_count": 6,
   "id": "65f935eb",
   "metadata": {
    "execution": {
     "iopub.execute_input": "2021-08-07T10:04:29.471271Z",
     "iopub.status.busy": "2021-08-07T10:04:29.470661Z",
     "iopub.status.idle": "2021-08-07T10:04:29.474868Z",
     "shell.execute_reply": "2021-08-07T10:04:29.475320Z",
     "shell.execute_reply.started": "2021-08-05T21:47:37.641643Z"
    },
    "papermill": {
     "duration": 0.025848,
     "end_time": "2021-08-07T10:04:29.475489",
     "exception": false,
     "start_time": "2021-08-07T10:04:29.449641",
     "status": "completed"
    },
    "tags": []
   },
   "outputs": [
    {
     "data": {
      "text/plain": [
       "(3276, 10)"
      ]
     },
     "execution_count": 6,
     "metadata": {},
     "output_type": "execute_result"
    }
   ],
   "source": [
    "df.shape\n"
   ]
  },
  {
   "cell_type": "code",
   "execution_count": 7,
   "id": "50cbdb0a",
   "metadata": {
    "execution": {
     "iopub.execute_input": "2021-08-07T10:04:29.515985Z",
     "iopub.status.busy": "2021-08-07T10:04:29.515419Z",
     "iopub.status.idle": "2021-08-07T10:04:29.519488Z",
     "shell.execute_reply": "2021-08-07T10:04:29.519930Z",
     "shell.execute_reply.started": "2021-08-05T21:47:37.66147Z"
    },
    "papermill": {
     "duration": 0.025784,
     "end_time": "2021-08-07T10:04:29.520099",
     "exception": false,
     "start_time": "2021-08-07T10:04:29.494315",
     "status": "completed"
    },
    "tags": []
   },
   "outputs": [],
   "source": [
    "total_rows =df.shape[0]\n",
    "total_cols =df.shape[1]"
   ]
  },
  {
   "cell_type": "code",
   "execution_count": 8,
   "id": "b3cd8645",
   "metadata": {
    "execution": {
     "iopub.execute_input": "2021-08-07T10:04:29.561982Z",
     "iopub.status.busy": "2021-08-07T10:04:29.561352Z",
     "iopub.status.idle": "2021-08-07T10:04:29.622253Z",
     "shell.execute_reply": "2021-08-07T10:04:29.622705Z",
     "shell.execute_reply.started": "2021-08-05T21:47:37.673963Z"
    },
    "papermill": {
     "duration": 0.084098,
     "end_time": "2021-08-07T10:04:29.622875",
     "exception": false,
     "start_time": "2021-08-07T10:04:29.538777",
     "status": "completed"
    },
    "tags": []
   },
   "outputs": [
    {
     "data": {
      "text/html": [
       "<div>\n",
       "<style scoped>\n",
       "    .dataframe tbody tr th:only-of-type {\n",
       "        vertical-align: middle;\n",
       "    }\n",
       "\n",
       "    .dataframe tbody tr th {\n",
       "        vertical-align: top;\n",
       "    }\n",
       "\n",
       "    .dataframe thead th {\n",
       "        text-align: right;\n",
       "    }\n",
       "</style>\n",
       "<table border=\"1\" class=\"dataframe\">\n",
       "  <thead>\n",
       "    <tr style=\"text-align: right;\">\n",
       "      <th></th>\n",
       "      <th>ph</th>\n",
       "      <th>Hardness</th>\n",
       "      <th>Solids</th>\n",
       "      <th>Chloramines</th>\n",
       "      <th>Sulfate</th>\n",
       "      <th>Conductivity</th>\n",
       "      <th>Organic_carbon</th>\n",
       "      <th>Trihalomethanes</th>\n",
       "      <th>Turbidity</th>\n",
       "      <th>Potability</th>\n",
       "    </tr>\n",
       "  </thead>\n",
       "  <tbody>\n",
       "    <tr>\n",
       "      <th>count</th>\n",
       "      <td>2785.000000</td>\n",
       "      <td>3276.000000</td>\n",
       "      <td>3276.000000</td>\n",
       "      <td>3276.000000</td>\n",
       "      <td>2495.000000</td>\n",
       "      <td>3276.000000</td>\n",
       "      <td>3276.000000</td>\n",
       "      <td>3114.000000</td>\n",
       "      <td>3276.000000</td>\n",
       "      <td>3276.0</td>\n",
       "    </tr>\n",
       "    <tr>\n",
       "      <th>unique</th>\n",
       "      <td>NaN</td>\n",
       "      <td>NaN</td>\n",
       "      <td>NaN</td>\n",
       "      <td>NaN</td>\n",
       "      <td>NaN</td>\n",
       "      <td>NaN</td>\n",
       "      <td>NaN</td>\n",
       "      <td>NaN</td>\n",
       "      <td>NaN</td>\n",
       "      <td>2.0</td>\n",
       "    </tr>\n",
       "    <tr>\n",
       "      <th>top</th>\n",
       "      <td>NaN</td>\n",
       "      <td>NaN</td>\n",
       "      <td>NaN</td>\n",
       "      <td>NaN</td>\n",
       "      <td>NaN</td>\n",
       "      <td>NaN</td>\n",
       "      <td>NaN</td>\n",
       "      <td>NaN</td>\n",
       "      <td>NaN</td>\n",
       "      <td>0.0</td>\n",
       "    </tr>\n",
       "    <tr>\n",
       "      <th>freq</th>\n",
       "      <td>NaN</td>\n",
       "      <td>NaN</td>\n",
       "      <td>NaN</td>\n",
       "      <td>NaN</td>\n",
       "      <td>NaN</td>\n",
       "      <td>NaN</td>\n",
       "      <td>NaN</td>\n",
       "      <td>NaN</td>\n",
       "      <td>NaN</td>\n",
       "      <td>1998.0</td>\n",
       "    </tr>\n",
       "    <tr>\n",
       "      <th>mean</th>\n",
       "      <td>7.080795</td>\n",
       "      <td>196.369496</td>\n",
       "      <td>22014.092526</td>\n",
       "      <td>7.122277</td>\n",
       "      <td>333.775777</td>\n",
       "      <td>426.205111</td>\n",
       "      <td>14.284970</td>\n",
       "      <td>66.396293</td>\n",
       "      <td>3.966786</td>\n",
       "      <td>NaN</td>\n",
       "    </tr>\n",
       "    <tr>\n",
       "      <th>std</th>\n",
       "      <td>1.594320</td>\n",
       "      <td>32.879761</td>\n",
       "      <td>8768.570828</td>\n",
       "      <td>1.583085</td>\n",
       "      <td>41.416840</td>\n",
       "      <td>80.824064</td>\n",
       "      <td>3.308162</td>\n",
       "      <td>16.175008</td>\n",
       "      <td>0.780382</td>\n",
       "      <td>NaN</td>\n",
       "    </tr>\n",
       "    <tr>\n",
       "      <th>min</th>\n",
       "      <td>0.000000</td>\n",
       "      <td>47.432000</td>\n",
       "      <td>320.942611</td>\n",
       "      <td>0.352000</td>\n",
       "      <td>129.000000</td>\n",
       "      <td>181.483754</td>\n",
       "      <td>2.200000</td>\n",
       "      <td>0.738000</td>\n",
       "      <td>1.450000</td>\n",
       "      <td>NaN</td>\n",
       "    </tr>\n",
       "    <tr>\n",
       "      <th>25%</th>\n",
       "      <td>6.093092</td>\n",
       "      <td>176.850538</td>\n",
       "      <td>15666.690297</td>\n",
       "      <td>6.127421</td>\n",
       "      <td>307.699498</td>\n",
       "      <td>365.734414</td>\n",
       "      <td>12.065801</td>\n",
       "      <td>55.844536</td>\n",
       "      <td>3.439711</td>\n",
       "      <td>NaN</td>\n",
       "    </tr>\n",
       "    <tr>\n",
       "      <th>50%</th>\n",
       "      <td>7.036752</td>\n",
       "      <td>196.967627</td>\n",
       "      <td>20927.833607</td>\n",
       "      <td>7.130299</td>\n",
       "      <td>333.073546</td>\n",
       "      <td>421.884968</td>\n",
       "      <td>14.218338</td>\n",
       "      <td>66.622485</td>\n",
       "      <td>3.955028</td>\n",
       "      <td>NaN</td>\n",
       "    </tr>\n",
       "    <tr>\n",
       "      <th>75%</th>\n",
       "      <td>8.062066</td>\n",
       "      <td>216.667456</td>\n",
       "      <td>27332.762127</td>\n",
       "      <td>8.114887</td>\n",
       "      <td>359.950170</td>\n",
       "      <td>481.792304</td>\n",
       "      <td>16.557652</td>\n",
       "      <td>77.337473</td>\n",
       "      <td>4.500320</td>\n",
       "      <td>NaN</td>\n",
       "    </tr>\n",
       "    <tr>\n",
       "      <th>max</th>\n",
       "      <td>14.000000</td>\n",
       "      <td>323.124000</td>\n",
       "      <td>61227.196008</td>\n",
       "      <td>13.127000</td>\n",
       "      <td>481.030642</td>\n",
       "      <td>753.342620</td>\n",
       "      <td>28.300000</td>\n",
       "      <td>124.000000</td>\n",
       "      <td>6.739000</td>\n",
       "      <td>NaN</td>\n",
       "    </tr>\n",
       "    <tr>\n",
       "      <th>null_count_%</th>\n",
       "      <td>14.987790</td>\n",
       "      <td>0.000000</td>\n",
       "      <td>0.000000</td>\n",
       "      <td>0.000000</td>\n",
       "      <td>23.840049</td>\n",
       "      <td>0.000000</td>\n",
       "      <td>0.000000</td>\n",
       "      <td>4.945055</td>\n",
       "      <td>0.000000</td>\n",
       "      <td>0.0</td>\n",
       "    </tr>\n",
       "  </tbody>\n",
       "</table>\n",
       "</div>"
      ],
      "text/plain": [
       "                       ph     Hardness        Solids  Chloramines  \\\n",
       "count         2785.000000  3276.000000   3276.000000  3276.000000   \n",
       "unique                NaN          NaN           NaN          NaN   \n",
       "top                   NaN          NaN           NaN          NaN   \n",
       "freq                  NaN          NaN           NaN          NaN   \n",
       "mean             7.080795   196.369496  22014.092526     7.122277   \n",
       "std              1.594320    32.879761   8768.570828     1.583085   \n",
       "min              0.000000    47.432000    320.942611     0.352000   \n",
       "25%              6.093092   176.850538  15666.690297     6.127421   \n",
       "50%              7.036752   196.967627  20927.833607     7.130299   \n",
       "75%              8.062066   216.667456  27332.762127     8.114887   \n",
       "max             14.000000   323.124000  61227.196008    13.127000   \n",
       "null_count_%    14.987790     0.000000      0.000000     0.000000   \n",
       "\n",
       "                  Sulfate  Conductivity  Organic_carbon  Trihalomethanes  \\\n",
       "count         2495.000000   3276.000000     3276.000000      3114.000000   \n",
       "unique                NaN           NaN             NaN              NaN   \n",
       "top                   NaN           NaN             NaN              NaN   \n",
       "freq                  NaN           NaN             NaN              NaN   \n",
       "mean           333.775777    426.205111       14.284970        66.396293   \n",
       "std             41.416840     80.824064        3.308162        16.175008   \n",
       "min            129.000000    181.483754        2.200000         0.738000   \n",
       "25%            307.699498    365.734414       12.065801        55.844536   \n",
       "50%            333.073546    421.884968       14.218338        66.622485   \n",
       "75%            359.950170    481.792304       16.557652        77.337473   \n",
       "max            481.030642    753.342620       28.300000       124.000000   \n",
       "null_count_%    23.840049      0.000000        0.000000         4.945055   \n",
       "\n",
       "                Turbidity  Potability  \n",
       "count         3276.000000      3276.0  \n",
       "unique                NaN         2.0  \n",
       "top                   NaN         0.0  \n",
       "freq                  NaN      1998.0  \n",
       "mean             3.966786         NaN  \n",
       "std              0.780382         NaN  \n",
       "min              1.450000         NaN  \n",
       "25%              3.439711         NaN  \n",
       "50%              3.955028         NaN  \n",
       "75%              4.500320         NaN  \n",
       "max              6.739000         NaN  \n",
       "null_count_%     0.000000         0.0  "
      ]
     },
     "execution_count": 8,
     "metadata": {},
     "output_type": "execute_result"
    }
   ],
   "source": [
    "summary = df.describe(include='all')\n",
    "summary.loc['null_count_%'] = 100*df.isnull().sum()/total_rows\n",
    "\n",
    "summary"
   ]
  },
  {
   "cell_type": "code",
   "execution_count": 9,
   "id": "2d361773",
   "metadata": {
    "execution": {
     "iopub.execute_input": "2021-08-07T10:04:29.665452Z",
     "iopub.status.busy": "2021-08-07T10:04:29.664588Z",
     "iopub.status.idle": "2021-08-07T10:04:29.672639Z",
     "shell.execute_reply": "2021-08-07T10:04:29.671981Z",
     "shell.execute_reply.started": "2021-08-05T21:50:08.376422Z"
    },
    "papermill": {
     "duration": 0.029847,
     "end_time": "2021-08-07T10:04:29.672786",
     "exception": false,
     "start_time": "2021-08-07T10:04:29.642939",
     "status": "completed"
    },
    "tags": []
   },
   "outputs": [],
   "source": [
    "\n",
    "num_data = df.select_dtypes('number')"
   ]
  },
  {
   "cell_type": "code",
   "execution_count": 10,
   "id": "318ad322",
   "metadata": {
    "execution": {
     "iopub.execute_input": "2021-08-07T10:04:29.718090Z",
     "iopub.status.busy": "2021-08-07T10:04:29.717160Z",
     "iopub.status.idle": "2021-08-07T10:04:29.720265Z",
     "shell.execute_reply": "2021-08-07T10:04:29.720693Z",
     "shell.execute_reply.started": "2021-08-05T21:52:11.044344Z"
    },
    "papermill": {
     "duration": 0.028659,
     "end_time": "2021-08-07T10:04:29.720855",
     "exception": false,
     "start_time": "2021-08-07T10:04:29.692196",
     "status": "completed"
    },
    "tags": []
   },
   "outputs": [
    {
     "name": "stdout",
     "output_type": "stream",
     "text": [
      "['Potability']\n"
     ]
    }
   ],
   "source": [
    "\n",
    "num_cols = num_data.columns.to_list()\n",
    "cat_cols = df.drop(columns=num_cols).columns.to_list()\n",
    "print(cat_cols)"
   ]
  },
  {
   "cell_type": "code",
   "execution_count": 11,
   "id": "ea1b1616",
   "metadata": {
    "execution": {
     "iopub.execute_input": "2021-08-07T10:04:29.765730Z",
     "iopub.status.busy": "2021-08-07T10:04:29.764945Z",
     "iopub.status.idle": "2021-08-07T10:04:35.018812Z",
     "shell.execute_reply": "2021-08-07T10:04:35.018199Z",
     "shell.execute_reply.started": "2021-08-05T21:52:50.828544Z"
    },
    "papermill": {
     "duration": 5.278545,
     "end_time": "2021-08-07T10:04:35.018948",
     "exception": false,
     "start_time": "2021-08-07T10:04:29.740403",
     "status": "completed"
    },
    "tags": []
   },
   "outputs": [
    {
     "data": {
      "text/html": [
       "<div>\n",
       "<style scoped>\n",
       "    .dataframe tbody tr th:only-of-type {\n",
       "        vertical-align: middle;\n",
       "    }\n",
       "\n",
       "    .dataframe tbody tr th {\n",
       "        vertical-align: top;\n",
       "    }\n",
       "\n",
       "    .dataframe thead th {\n",
       "        text-align: right;\n",
       "    }\n",
       "</style>\n",
       "<table border=\"1\" class=\"dataframe\">\n",
       "  <thead>\n",
       "    <tr style=\"text-align: right;\">\n",
       "      <th></th>\n",
       "      <th>ph</th>\n",
       "      <th>Hardness</th>\n",
       "      <th>Solids</th>\n",
       "      <th>Chloramines</th>\n",
       "      <th>Sulfate</th>\n",
       "      <th>Conductivity</th>\n",
       "      <th>Organic_carbon</th>\n",
       "      <th>Trihalomethanes</th>\n",
       "      <th>Turbidity</th>\n",
       "      <th>Potability</th>\n",
       "    </tr>\n",
       "  </thead>\n",
       "  <tbody>\n",
       "    <tr>\n",
       "      <th>count</th>\n",
       "      <td>2785.000000</td>\n",
       "      <td>3276.000000</td>\n",
       "      <td>3276.000000</td>\n",
       "      <td>3276.000000</td>\n",
       "      <td>2495.000000</td>\n",
       "      <td>3276.000000</td>\n",
       "      <td>3276.000000</td>\n",
       "      <td>3114.000000</td>\n",
       "      <td>3276.000000</td>\n",
       "      <td>3276.0</td>\n",
       "    </tr>\n",
       "    <tr>\n",
       "      <th>unique</th>\n",
       "      <td>NaN</td>\n",
       "      <td>NaN</td>\n",
       "      <td>NaN</td>\n",
       "      <td>NaN</td>\n",
       "      <td>NaN</td>\n",
       "      <td>NaN</td>\n",
       "      <td>NaN</td>\n",
       "      <td>NaN</td>\n",
       "      <td>NaN</td>\n",
       "      <td>2.0</td>\n",
       "    </tr>\n",
       "    <tr>\n",
       "      <th>top</th>\n",
       "      <td>NaN</td>\n",
       "      <td>NaN</td>\n",
       "      <td>NaN</td>\n",
       "      <td>NaN</td>\n",
       "      <td>NaN</td>\n",
       "      <td>NaN</td>\n",
       "      <td>NaN</td>\n",
       "      <td>NaN</td>\n",
       "      <td>NaN</td>\n",
       "      <td>0.0</td>\n",
       "    </tr>\n",
       "    <tr>\n",
       "      <th>freq</th>\n",
       "      <td>NaN</td>\n",
       "      <td>NaN</td>\n",
       "      <td>NaN</td>\n",
       "      <td>NaN</td>\n",
       "      <td>NaN</td>\n",
       "      <td>NaN</td>\n",
       "      <td>NaN</td>\n",
       "      <td>NaN</td>\n",
       "      <td>NaN</td>\n",
       "      <td>1998.0</td>\n",
       "    </tr>\n",
       "    <tr>\n",
       "      <th>mean</th>\n",
       "      <td>7.080795</td>\n",
       "      <td>196.369496</td>\n",
       "      <td>22014.092526</td>\n",
       "      <td>7.122277</td>\n",
       "      <td>333.775777</td>\n",
       "      <td>426.205111</td>\n",
       "      <td>14.284970</td>\n",
       "      <td>66.396293</td>\n",
       "      <td>3.966786</td>\n",
       "      <td>NaN</td>\n",
       "    </tr>\n",
       "    <tr>\n",
       "      <th>std</th>\n",
       "      <td>1.594320</td>\n",
       "      <td>32.879761</td>\n",
       "      <td>8768.570828</td>\n",
       "      <td>1.583085</td>\n",
       "      <td>41.416840</td>\n",
       "      <td>80.824064</td>\n",
       "      <td>3.308162</td>\n",
       "      <td>16.175008</td>\n",
       "      <td>0.780382</td>\n",
       "      <td>NaN</td>\n",
       "    </tr>\n",
       "    <tr>\n",
       "      <th>min</th>\n",
       "      <td>0.000000</td>\n",
       "      <td>47.432000</td>\n",
       "      <td>320.942611</td>\n",
       "      <td>0.352000</td>\n",
       "      <td>129.000000</td>\n",
       "      <td>181.483754</td>\n",
       "      <td>2.200000</td>\n",
       "      <td>0.738000</td>\n",
       "      <td>1.450000</td>\n",
       "      <td>NaN</td>\n",
       "    </tr>\n",
       "    <tr>\n",
       "      <th>25%</th>\n",
       "      <td>6.093092</td>\n",
       "      <td>176.850538</td>\n",
       "      <td>15666.690297</td>\n",
       "      <td>6.127421</td>\n",
       "      <td>307.699498</td>\n",
       "      <td>365.734414</td>\n",
       "      <td>12.065801</td>\n",
       "      <td>55.844536</td>\n",
       "      <td>3.439711</td>\n",
       "      <td>NaN</td>\n",
       "    </tr>\n",
       "    <tr>\n",
       "      <th>50%</th>\n",
       "      <td>7.036752</td>\n",
       "      <td>196.967627</td>\n",
       "      <td>20927.833607</td>\n",
       "      <td>7.130299</td>\n",
       "      <td>333.073546</td>\n",
       "      <td>421.884968</td>\n",
       "      <td>14.218338</td>\n",
       "      <td>66.622485</td>\n",
       "      <td>3.955028</td>\n",
       "      <td>NaN</td>\n",
       "    </tr>\n",
       "    <tr>\n",
       "      <th>75%</th>\n",
       "      <td>8.062066</td>\n",
       "      <td>216.667456</td>\n",
       "      <td>27332.762127</td>\n",
       "      <td>8.114887</td>\n",
       "      <td>359.950170</td>\n",
       "      <td>481.792304</td>\n",
       "      <td>16.557652</td>\n",
       "      <td>77.337473</td>\n",
       "      <td>4.500320</td>\n",
       "      <td>NaN</td>\n",
       "    </tr>\n",
       "    <tr>\n",
       "      <th>max</th>\n",
       "      <td>14.000000</td>\n",
       "      <td>323.124000</td>\n",
       "      <td>61227.196008</td>\n",
       "      <td>13.127000</td>\n",
       "      <td>481.030642</td>\n",
       "      <td>753.342620</td>\n",
       "      <td>28.300000</td>\n",
       "      <td>124.000000</td>\n",
       "      <td>6.739000</td>\n",
       "      <td>NaN</td>\n",
       "    </tr>\n",
       "    <tr>\n",
       "      <th>null_count_%</th>\n",
       "      <td>14.987790</td>\n",
       "      <td>0.000000</td>\n",
       "      <td>0.000000</td>\n",
       "      <td>0.000000</td>\n",
       "      <td>23.840049</td>\n",
       "      <td>0.000000</td>\n",
       "      <td>0.000000</td>\n",
       "      <td>4.945055</td>\n",
       "      <td>0.000000</td>\n",
       "      <td>0.0</td>\n",
       "    </tr>\n",
       "    <tr>\n",
       "      <th>outliers_count</th>\n",
       "      <td>33.000000</td>\n",
       "      <td>33.000000</td>\n",
       "      <td>33.000000</td>\n",
       "      <td>33.000000</td>\n",
       "      <td>33.000000</td>\n",
       "      <td>33.000000</td>\n",
       "      <td>33.000000</td>\n",
       "      <td>33.000000</td>\n",
       "      <td>33.000000</td>\n",
       "      <td>NaN</td>\n",
       "    </tr>\n",
       "  </tbody>\n",
       "</table>\n",
       "</div>"
      ],
      "text/plain": [
       "                         ph     Hardness        Solids  Chloramines  \\\n",
       "count           2785.000000  3276.000000   3276.000000  3276.000000   \n",
       "unique                  NaN          NaN           NaN          NaN   \n",
       "top                     NaN          NaN           NaN          NaN   \n",
       "freq                    NaN          NaN           NaN          NaN   \n",
       "mean               7.080795   196.369496  22014.092526     7.122277   \n",
       "std                1.594320    32.879761   8768.570828     1.583085   \n",
       "min                0.000000    47.432000    320.942611     0.352000   \n",
       "25%                6.093092   176.850538  15666.690297     6.127421   \n",
       "50%                7.036752   196.967627  20927.833607     7.130299   \n",
       "75%                8.062066   216.667456  27332.762127     8.114887   \n",
       "max               14.000000   323.124000  61227.196008    13.127000   \n",
       "null_count_%      14.987790     0.000000      0.000000     0.000000   \n",
       "outliers_count    33.000000    33.000000     33.000000    33.000000   \n",
       "\n",
       "                    Sulfate  Conductivity  Organic_carbon  Trihalomethanes  \\\n",
       "count           2495.000000   3276.000000     3276.000000      3114.000000   \n",
       "unique                  NaN           NaN             NaN              NaN   \n",
       "top                     NaN           NaN             NaN              NaN   \n",
       "freq                    NaN           NaN             NaN              NaN   \n",
       "mean             333.775777    426.205111       14.284970        66.396293   \n",
       "std               41.416840     80.824064        3.308162        16.175008   \n",
       "min              129.000000    181.483754        2.200000         0.738000   \n",
       "25%              307.699498    365.734414       12.065801        55.844536   \n",
       "50%              333.073546    421.884968       14.218338        66.622485   \n",
       "75%              359.950170    481.792304       16.557652        77.337473   \n",
       "max              481.030642    753.342620       28.300000       124.000000   \n",
       "null_count_%      23.840049      0.000000        0.000000         4.945055   \n",
       "outliers_count    33.000000     33.000000       33.000000        33.000000   \n",
       "\n",
       "                  Turbidity  Potability  \n",
       "count           3276.000000      3276.0  \n",
       "unique                  NaN         2.0  \n",
       "top                     NaN         0.0  \n",
       "freq                    NaN      1998.0  \n",
       "mean               3.966786         NaN  \n",
       "std                0.780382         NaN  \n",
       "min                1.450000         NaN  \n",
       "25%                3.439711         NaN  \n",
       "50%                3.955028         NaN  \n",
       "75%                4.500320         NaN  \n",
       "max                6.739000         NaN  \n",
       "null_count_%       0.000000         0.0  \n",
       "outliers_count    33.000000         NaN  "
      ]
     },
     "execution_count": 11,
     "metadata": {},
     "output_type": "execute_result"
    }
   ],
   "source": [
    "from sklearn.ensemble import IsolationForest\n",
    "num_data = num_data.fillna(0)\n",
    "\n",
    "outlier_detect = IsolationForest(max_samples = 555, random_state=1, contamination = 0.01)\n",
    "for col in num_cols:\n",
    "    preds = outlier_detect.fit_predict(num_data[[col]])\n",
    "    total_outliers = 0\n",
    "    for pred in preds:\n",
    "        if(pred == -1):\n",
    "            total_outliers = total_outliers + 1\n",
    "    #summary.loc['outliers_count', col] = 100 * total_outliers/total_rows\n",
    "    summary.loc['outliers_count', col] = total_outliers\n",
    "summary\n",
    "    "
   ]
  },
  {
   "cell_type": "code",
   "execution_count": 12,
   "id": "1fb1bd08",
   "metadata": {
    "execution": {
     "iopub.execute_input": "2021-08-07T10:04:35.070829Z",
     "iopub.status.busy": "2021-08-07T10:04:35.069857Z",
     "iopub.status.idle": "2021-08-07T10:04:35.543534Z",
     "shell.execute_reply": "2021-08-07T10:04:35.543989Z",
     "shell.execute_reply.started": "2021-08-05T21:53:14.834366Z"
    },
    "papermill": {
     "duration": 0.505093,
     "end_time": "2021-08-07T10:04:35.544169",
     "exception": false,
     "start_time": "2021-08-07T10:04:35.039076",
     "status": "completed"
    },
    "tags": []
   },
   "outputs": [
    {
     "name": "stdout",
     "output_type": "stream",
     "text": [
      "Total Outliers Count:  33\n"
     ]
    }
   ],
   "source": [
    "preds = outlier_detect.fit_predict(num_data)\n",
    "total_outliers = 0\n",
    "for pred in preds:\n",
    "    if(pred == -1):\n",
    "        total_outliers = total_outliers + 1\n",
    "print(\"Total Outliers Count: \", total_outliers)"
   ]
  },
  {
   "cell_type": "code",
   "execution_count": 13,
   "id": "e30958d0",
   "metadata": {
    "execution": {
     "iopub.execute_input": "2021-08-07T10:04:35.590837Z",
     "iopub.status.busy": "2021-08-07T10:04:35.590143Z",
     "iopub.status.idle": "2021-08-07T10:04:35.608872Z",
     "shell.execute_reply": "2021-08-07T10:04:35.607790Z",
     "shell.execute_reply.started": "2021-08-05T21:53:19.825636Z"
    },
    "papermill": {
     "duration": 0.043924,
     "end_time": "2021-08-07T10:04:35.609042",
     "exception": false,
     "start_time": "2021-08-07T10:04:35.565118",
     "status": "completed"
    },
    "tags": []
   },
   "outputs": [
    {
     "data": {
      "text/html": [
       "<div>\n",
       "<style scoped>\n",
       "    .dataframe tbody tr th:only-of-type {\n",
       "        vertical-align: middle;\n",
       "    }\n",
       "\n",
       "    .dataframe tbody tr th {\n",
       "        vertical-align: top;\n",
       "    }\n",
       "\n",
       "    .dataframe thead th {\n",
       "        text-align: right;\n",
       "    }\n",
       "</style>\n",
       "<table border=\"1\" class=\"dataframe\">\n",
       "  <thead>\n",
       "    <tr style=\"text-align: right;\">\n",
       "      <th></th>\n",
       "      <th>ph</th>\n",
       "      <th>Hardness</th>\n",
       "      <th>Solids</th>\n",
       "      <th>Chloramines</th>\n",
       "      <th>Sulfate</th>\n",
       "      <th>Conductivity</th>\n",
       "      <th>Organic_carbon</th>\n",
       "      <th>Trihalomethanes</th>\n",
       "      <th>Turbidity</th>\n",
       "    </tr>\n",
       "  </thead>\n",
       "  <tbody>\n",
       "    <tr>\n",
       "      <th>ph</th>\n",
       "      <td>1.000000</td>\n",
       "      <td>0.082096</td>\n",
       "      <td>-0.089288</td>\n",
       "      <td>-0.034350</td>\n",
       "      <td>0.018203</td>\n",
       "      <td>0.018614</td>\n",
       "      <td>0.043503</td>\n",
       "      <td>0.003354</td>\n",
       "      <td>-0.039057</td>\n",
       "    </tr>\n",
       "    <tr>\n",
       "      <th>Hardness</th>\n",
       "      <td>0.082096</td>\n",
       "      <td>1.000000</td>\n",
       "      <td>-0.046899</td>\n",
       "      <td>-0.030054</td>\n",
       "      <td>-0.106923</td>\n",
       "      <td>-0.023915</td>\n",
       "      <td>0.003610</td>\n",
       "      <td>-0.013013</td>\n",
       "      <td>-0.014449</td>\n",
       "    </tr>\n",
       "    <tr>\n",
       "      <th>Solids</th>\n",
       "      <td>-0.089288</td>\n",
       "      <td>-0.046899</td>\n",
       "      <td>1.000000</td>\n",
       "      <td>-0.070148</td>\n",
       "      <td>-0.171804</td>\n",
       "      <td>0.013831</td>\n",
       "      <td>0.010242</td>\n",
       "      <td>-0.009143</td>\n",
       "      <td>0.019546</td>\n",
       "    </tr>\n",
       "    <tr>\n",
       "      <th>Chloramines</th>\n",
       "      <td>-0.034350</td>\n",
       "      <td>-0.030054</td>\n",
       "      <td>-0.070148</td>\n",
       "      <td>1.000000</td>\n",
       "      <td>0.027244</td>\n",
       "      <td>-0.020486</td>\n",
       "      <td>-0.012653</td>\n",
       "      <td>0.017084</td>\n",
       "      <td>0.002363</td>\n",
       "    </tr>\n",
       "    <tr>\n",
       "      <th>Sulfate</th>\n",
       "      <td>0.018203</td>\n",
       "      <td>-0.106923</td>\n",
       "      <td>-0.171804</td>\n",
       "      <td>0.027244</td>\n",
       "      <td>1.000000</td>\n",
       "      <td>-0.016121</td>\n",
       "      <td>0.030831</td>\n",
       "      <td>-0.030274</td>\n",
       "      <td>-0.011187</td>\n",
       "    </tr>\n",
       "    <tr>\n",
       "      <th>Conductivity</th>\n",
       "      <td>0.018614</td>\n",
       "      <td>-0.023915</td>\n",
       "      <td>0.013831</td>\n",
       "      <td>-0.020486</td>\n",
       "      <td>-0.016121</td>\n",
       "      <td>1.000000</td>\n",
       "      <td>0.020966</td>\n",
       "      <td>0.001285</td>\n",
       "      <td>0.005798</td>\n",
       "    </tr>\n",
       "    <tr>\n",
       "      <th>Organic_carbon</th>\n",
       "      <td>0.043503</td>\n",
       "      <td>0.003610</td>\n",
       "      <td>0.010242</td>\n",
       "      <td>-0.012653</td>\n",
       "      <td>0.030831</td>\n",
       "      <td>0.020966</td>\n",
       "      <td>1.000000</td>\n",
       "      <td>-0.013274</td>\n",
       "      <td>-0.027308</td>\n",
       "    </tr>\n",
       "    <tr>\n",
       "      <th>Trihalomethanes</th>\n",
       "      <td>0.003354</td>\n",
       "      <td>-0.013013</td>\n",
       "      <td>-0.009143</td>\n",
       "      <td>0.017084</td>\n",
       "      <td>-0.030274</td>\n",
       "      <td>0.001285</td>\n",
       "      <td>-0.013274</td>\n",
       "      <td>1.000000</td>\n",
       "      <td>-0.022145</td>\n",
       "    </tr>\n",
       "    <tr>\n",
       "      <th>Turbidity</th>\n",
       "      <td>-0.039057</td>\n",
       "      <td>-0.014449</td>\n",
       "      <td>0.019546</td>\n",
       "      <td>0.002363</td>\n",
       "      <td>-0.011187</td>\n",
       "      <td>0.005798</td>\n",
       "      <td>-0.027308</td>\n",
       "      <td>-0.022145</td>\n",
       "      <td>1.000000</td>\n",
       "    </tr>\n",
       "  </tbody>\n",
       "</table>\n",
       "</div>"
      ],
      "text/plain": [
       "                       ph  Hardness    Solids  Chloramines   Sulfate  \\\n",
       "ph               1.000000  0.082096 -0.089288    -0.034350  0.018203   \n",
       "Hardness         0.082096  1.000000 -0.046899    -0.030054 -0.106923   \n",
       "Solids          -0.089288 -0.046899  1.000000    -0.070148 -0.171804   \n",
       "Chloramines     -0.034350 -0.030054 -0.070148     1.000000  0.027244   \n",
       "Sulfate          0.018203 -0.106923 -0.171804     0.027244  1.000000   \n",
       "Conductivity     0.018614 -0.023915  0.013831    -0.020486 -0.016121   \n",
       "Organic_carbon   0.043503  0.003610  0.010242    -0.012653  0.030831   \n",
       "Trihalomethanes  0.003354 -0.013013 -0.009143     0.017084 -0.030274   \n",
       "Turbidity       -0.039057 -0.014449  0.019546     0.002363 -0.011187   \n",
       "\n",
       "                 Conductivity  Organic_carbon  Trihalomethanes  Turbidity  \n",
       "ph                   0.018614        0.043503         0.003354  -0.039057  \n",
       "Hardness            -0.023915        0.003610        -0.013013  -0.014449  \n",
       "Solids               0.013831        0.010242        -0.009143   0.019546  \n",
       "Chloramines         -0.020486       -0.012653         0.017084   0.002363  \n",
       "Sulfate             -0.016121        0.030831        -0.030274  -0.011187  \n",
       "Conductivity         1.000000        0.020966         0.001285   0.005798  \n",
       "Organic_carbon       0.020966        1.000000        -0.013274  -0.027308  \n",
       "Trihalomethanes      0.001285       -0.013274         1.000000  -0.022145  \n",
       "Turbidity            0.005798       -0.027308        -0.022145   1.000000  "
      ]
     },
     "execution_count": 13,
     "metadata": {},
     "output_type": "execute_result"
    }
   ],
   "source": [
    "df_corr = df.corr()\n",
    "df_corr"
   ]
  },
  {
   "cell_type": "code",
   "execution_count": 14,
   "id": "f608a139",
   "metadata": {
    "execution": {
     "iopub.execute_input": "2021-08-07T10:04:35.657941Z",
     "iopub.status.busy": "2021-08-07T10:04:35.657336Z",
     "iopub.status.idle": "2021-08-07T10:04:35.660513Z",
     "shell.execute_reply": "2021-08-07T10:04:35.660013Z",
     "shell.execute_reply.started": "2021-08-05T21:53:33.064295Z"
    },
    "papermill": {
     "duration": 0.029555,
     "end_time": "2021-08-07T10:04:35.660660",
     "exception": false,
     "start_time": "2021-08-07T10:04:35.631105",
     "status": "completed"
    },
    "tags": []
   },
   "outputs": [],
   "source": [
    "X = df.drop(columns=['Potability'])\n",
    "y = df.loc[:, 'Potability']"
   ]
  },
  {
   "cell_type": "code",
   "execution_count": null,
   "id": "072d27de",
   "metadata": {
    "papermill": {
     "duration": 0.020537,
     "end_time": "2021-08-07T10:04:35.702178",
     "exception": false,
     "start_time": "2021-08-07T10:04:35.681641",
     "status": "completed"
    },
    "tags": []
   },
   "outputs": [],
   "source": []
  },
  {
   "cell_type": "code",
   "execution_count": 15,
   "id": "c10a6d18",
   "metadata": {
    "execution": {
     "iopub.execute_input": "2021-08-07T10:04:35.750938Z",
     "iopub.status.busy": "2021-08-07T10:04:35.749557Z",
     "iopub.status.idle": "2021-08-07T10:04:35.755443Z",
     "shell.execute_reply": "2021-08-07T10:04:35.755862Z",
     "shell.execute_reply.started": "2021-08-05T21:47:43.144355Z"
    },
    "papermill": {
     "duration": 0.032865,
     "end_time": "2021-08-07T10:04:35.756035",
     "exception": false,
     "start_time": "2021-08-07T10:04:35.723170",
     "status": "completed"
    },
    "tags": []
   },
   "outputs": [],
   "source": [
    "from sklearn.model_selection import train_test_split\n",
    "X_train_1,X_test,y_train_1, y_test, = train_test_split(X, y, test_size=0.2, random_state=5)\n",
    "X_train,X_val,y_train, y_val = train_test_split(X_train_1, y_train_1, test_size =0.3, random_state=5)\n"
   ]
  },
  {
   "cell_type": "code",
   "execution_count": 16,
   "id": "51985498",
   "metadata": {
    "execution": {
     "iopub.execute_input": "2021-08-07T10:04:35.812128Z",
     "iopub.status.busy": "2021-08-07T10:04:35.811051Z",
     "iopub.status.idle": "2021-08-07T10:04:35.814871Z",
     "shell.execute_reply": "2021-08-07T10:04:35.815307Z",
     "shell.execute_reply.started": "2021-08-05T21:53:52.610867Z"
    },
    "papermill": {
     "duration": 0.038653,
     "end_time": "2021-08-07T10:04:35.815483",
     "exception": false,
     "start_time": "2021-08-07T10:04:35.776830",
     "status": "completed"
    },
    "tags": []
   },
   "outputs": [
    {
     "data": {
      "text/html": [
       "<div>\n",
       "<style scoped>\n",
       "    .dataframe tbody tr th:only-of-type {\n",
       "        vertical-align: middle;\n",
       "    }\n",
       "\n",
       "    .dataframe tbody tr th {\n",
       "        vertical-align: top;\n",
       "    }\n",
       "\n",
       "    .dataframe thead th {\n",
       "        text-align: right;\n",
       "    }\n",
       "</style>\n",
       "<table border=\"1\" class=\"dataframe\">\n",
       "  <thead>\n",
       "    <tr style=\"text-align: right;\">\n",
       "      <th></th>\n",
       "      <th>ph</th>\n",
       "      <th>Hardness</th>\n",
       "      <th>Solids</th>\n",
       "      <th>Chloramines</th>\n",
       "      <th>Sulfate</th>\n",
       "      <th>Conductivity</th>\n",
       "      <th>Organic_carbon</th>\n",
       "      <th>Trihalomethanes</th>\n",
       "      <th>Turbidity</th>\n",
       "    </tr>\n",
       "  </thead>\n",
       "  <tbody>\n",
       "    <tr>\n",
       "      <th>2470</th>\n",
       "      <td>9.106917</td>\n",
       "      <td>209.609618</td>\n",
       "      <td>16879.524770</td>\n",
       "      <td>2.102691</td>\n",
       "      <td>NaN</td>\n",
       "      <td>294.310081</td>\n",
       "      <td>8.064296</td>\n",
       "      <td>70.190625</td>\n",
       "      <td>4.186726</td>\n",
       "    </tr>\n",
       "    <tr>\n",
       "      <th>1079</th>\n",
       "      <td>6.744799</td>\n",
       "      <td>204.084318</td>\n",
       "      <td>20215.697517</td>\n",
       "      <td>6.125252</td>\n",
       "      <td>304.527937</td>\n",
       "      <td>544.339317</td>\n",
       "      <td>12.014243</td>\n",
       "      <td>72.608076</td>\n",
       "      <td>4.868543</td>\n",
       "    </tr>\n",
       "    <tr>\n",
       "      <th>2048</th>\n",
       "      <td>NaN</td>\n",
       "      <td>221.673134</td>\n",
       "      <td>32269.504938</td>\n",
       "      <td>8.765238</td>\n",
       "      <td>303.961739</td>\n",
       "      <td>357.358567</td>\n",
       "      <td>12.819741</td>\n",
       "      <td>51.374239</td>\n",
       "      <td>4.804829</td>\n",
       "    </tr>\n",
       "    <tr>\n",
       "      <th>1057</th>\n",
       "      <td>7.636454</td>\n",
       "      <td>238.936074</td>\n",
       "      <td>18136.261585</td>\n",
       "      <td>11.086526</td>\n",
       "      <td>351.558811</td>\n",
       "      <td>514.964060</td>\n",
       "      <td>8.637461</td>\n",
       "      <td>55.603512</td>\n",
       "      <td>3.332906</td>\n",
       "    </tr>\n",
       "    <tr>\n",
       "      <th>2020</th>\n",
       "      <td>NaN</td>\n",
       "      <td>212.705332</td>\n",
       "      <td>25626.481050</td>\n",
       "      <td>8.590184</td>\n",
       "      <td>338.663535</td>\n",
       "      <td>330.253375</td>\n",
       "      <td>11.052838</td>\n",
       "      <td>64.472001</td>\n",
       "      <td>4.219226</td>\n",
       "    </tr>\n",
       "  </tbody>\n",
       "</table>\n",
       "</div>"
      ],
      "text/plain": [
       "            ph    Hardness        Solids  Chloramines     Sulfate  \\\n",
       "2470  9.106917  209.609618  16879.524770     2.102691         NaN   \n",
       "1079  6.744799  204.084318  20215.697517     6.125252  304.527937   \n",
       "2048       NaN  221.673134  32269.504938     8.765238  303.961739   \n",
       "1057  7.636454  238.936074  18136.261585    11.086526  351.558811   \n",
       "2020       NaN  212.705332  25626.481050     8.590184  338.663535   \n",
       "\n",
       "      Conductivity  Organic_carbon  Trihalomethanes  Turbidity  \n",
       "2470    294.310081        8.064296        70.190625   4.186726  \n",
       "1079    544.339317       12.014243        72.608076   4.868543  \n",
       "2048    357.358567       12.819741        51.374239   4.804829  \n",
       "1057    514.964060        8.637461        55.603512   3.332906  \n",
       "2020    330.253375       11.052838        64.472001   4.219226  "
      ]
     },
     "execution_count": 16,
     "metadata": {},
     "output_type": "execute_result"
    }
   ],
   "source": [
    "X_train.head()"
   ]
  },
  {
   "cell_type": "code",
   "execution_count": 17,
   "id": "c191b356",
   "metadata": {
    "execution": {
     "iopub.execute_input": "2021-08-07T10:04:35.864061Z",
     "iopub.status.busy": "2021-08-07T10:04:35.863443Z",
     "iopub.status.idle": "2021-08-07T10:04:36.147275Z",
     "shell.execute_reply": "2021-08-07T10:04:36.148089Z",
     "shell.execute_reply.started": "2021-08-05T21:53:58.288105Z"
    },
    "papermill": {
     "duration": 0.310925,
     "end_time": "2021-08-07T10:04:36.148384",
     "exception": false,
     "start_time": "2021-08-07T10:04:35.837459",
     "status": "completed"
    },
    "tags": []
   },
   "outputs": [
    {
     "name": "stderr",
     "output_type": "stream",
     "text": [
      "/opt/conda/lib/python3.7/site-packages/ipykernel_launcher.py:6: SettingWithCopyWarning: \n",
      "A value is trying to be set on a copy of a slice from a DataFrame.\n",
      "Try using .loc[row_indexer,col_indexer] = value instead\n",
      "\n",
      "See the caveats in the documentation: https://pandas.pydata.org/pandas-docs/stable/user_guide/indexing.html#returning-a-view-versus-a-copy\n",
      "  \n",
      "/opt/conda/lib/python3.7/site-packages/pandas/core/indexing.py:1637: SettingWithCopyWarning: \n",
      "A value is trying to be set on a copy of a slice from a DataFrame\n",
      "\n",
      "See the caveats in the documentation: https://pandas.pydata.org/pandas-docs/stable/user_guide/indexing.html#returning-a-view-versus-a-copy\n",
      "  self._setitem_single_block(indexer, value, name)\n",
      "/opt/conda/lib/python3.7/site-packages/pandas/core/indexing.py:692: SettingWithCopyWarning: \n",
      "A value is trying to be set on a copy of a slice from a DataFrame\n",
      "\n",
      "See the caveats in the documentation: https://pandas.pydata.org/pandas-docs/stable/user_guide/indexing.html#returning-a-view-versus-a-copy\n",
      "  iloc._setitem_with_indexer(indexer, value, self.name)\n",
      "/opt/conda/lib/python3.7/site-packages/ipykernel_launcher.py:7: SettingWithCopyWarning: \n",
      "A value is trying to be set on a copy of a slice from a DataFrame.\n",
      "Try using .loc[row_indexer,col_indexer] = value instead\n",
      "\n",
      "See the caveats in the documentation: https://pandas.pydata.org/pandas-docs/stable/user_guide/indexing.html#returning-a-view-versus-a-copy\n",
      "  import sys\n",
      "/opt/conda/lib/python3.7/site-packages/pandas/core/indexing.py:1637: SettingWithCopyWarning: \n",
      "A value is trying to be set on a copy of a slice from a DataFrame\n",
      "\n",
      "See the caveats in the documentation: https://pandas.pydata.org/pandas-docs/stable/user_guide/indexing.html#returning-a-view-versus-a-copy\n",
      "  self._setitem_single_block(indexer, value, name)\n",
      "/opt/conda/lib/python3.7/site-packages/pandas/core/indexing.py:692: SettingWithCopyWarning: \n",
      "A value is trying to be set on a copy of a slice from a DataFrame\n",
      "\n",
      "See the caveats in the documentation: https://pandas.pydata.org/pandas-docs/stable/user_guide/indexing.html#returning-a-view-versus-a-copy\n",
      "  iloc._setitem_with_indexer(indexer, value, self.name)\n",
      "/opt/conda/lib/python3.7/site-packages/ipykernel_launcher.py:8: SettingWithCopyWarning: \n",
      "A value is trying to be set on a copy of a slice from a DataFrame.\n",
      "Try using .loc[row_indexer,col_indexer] = value instead\n",
      "\n",
      "See the caveats in the documentation: https://pandas.pydata.org/pandas-docs/stable/user_guide/indexing.html#returning-a-view-versus-a-copy\n",
      "  \n",
      "/opt/conda/lib/python3.7/site-packages/pandas/core/indexing.py:1637: SettingWithCopyWarning: \n",
      "A value is trying to be set on a copy of a slice from a DataFrame\n",
      "\n",
      "See the caveats in the documentation: https://pandas.pydata.org/pandas-docs/stable/user_guide/indexing.html#returning-a-view-versus-a-copy\n",
      "  self._setitem_single_block(indexer, value, name)\n",
      "/opt/conda/lib/python3.7/site-packages/pandas/core/indexing.py:692: SettingWithCopyWarning: \n",
      "A value is trying to be set on a copy of a slice from a DataFrame\n",
      "\n",
      "See the caveats in the documentation: https://pandas.pydata.org/pandas-docs/stable/user_guide/indexing.html#returning-a-view-versus-a-copy\n",
      "  iloc._setitem_with_indexer(indexer, value, self.name)\n"
     ]
    }
   ],
   "source": [
    "from sklearn.impute import SimpleImputer\n",
    "from sklearn.impute import KNNImputer\n",
    "\n",
    "#df_imputer = SimpleImputer(strategy = 'median')\n",
    "df_imputer = KNNImputer(n_neighbors=5)\n",
    "X_train[X_train.columns] = df_imputer.fit_transform(X_train)\n",
    "X_val[X_val.columns]=df_imputer.transform(X_val)\n",
    "X_test[X_test.columns]=df_imputer.transform(X_test)"
   ]
  },
  {
   "cell_type": "code",
   "execution_count": 18,
   "id": "61fc8386",
   "metadata": {
    "execution": {
     "iopub.execute_input": "2021-08-07T10:04:36.232078Z",
     "iopub.status.busy": "2021-08-07T10:04:36.231437Z",
     "iopub.status.idle": "2021-08-07T10:04:36.235511Z",
     "shell.execute_reply": "2021-08-07T10:04:36.236000Z",
     "shell.execute_reply.started": "2021-08-05T21:54:05.994283Z"
    },
    "papermill": {
     "duration": 0.045244,
     "end_time": "2021-08-07T10:04:36.236183",
     "exception": false,
     "start_time": "2021-08-07T10:04:36.190939",
     "status": "completed"
    },
    "tags": []
   },
   "outputs": [
    {
     "data": {
      "text/plain": [
       "0    1113\n",
       "1     721\n",
       "Name: Potability, dtype: int64"
      ]
     },
     "execution_count": 18,
     "metadata": {},
     "output_type": "execute_result"
    }
   ],
   "source": [
    "X_train.head()\n",
    "y_train.value_counts()"
   ]
  },
  {
   "cell_type": "code",
   "execution_count": 19,
   "id": "500be356",
   "metadata": {
    "execution": {
     "iopub.execute_input": "2021-08-07T10:04:36.286575Z",
     "iopub.status.busy": "2021-08-07T10:04:36.285933Z",
     "iopub.status.idle": "2021-08-07T10:04:36.289193Z",
     "shell.execute_reply": "2021-08-07T10:04:36.289682Z",
     "shell.execute_reply.started": "2021-08-05T21:54:18.097909Z"
    },
    "papermill": {
     "duration": 0.031015,
     "end_time": "2021-08-07T10:04:36.289850",
     "exception": false,
     "start_time": "2021-08-07T10:04:36.258835",
     "status": "completed"
    },
    "tags": []
   },
   "outputs": [
    {
     "data": {
      "text/plain": [
       "CategoricalDtype(categories=[0, 1], ordered=False)"
      ]
     },
     "execution_count": 19,
     "metadata": {},
     "output_type": "execute_result"
    }
   ],
   "source": [
    "y_train.dtypes"
   ]
  },
  {
   "cell_type": "code",
   "execution_count": null,
   "id": "a268e8bb",
   "metadata": {
    "papermill": {
     "duration": 0.021806,
     "end_time": "2021-08-07T10:04:36.333729",
     "exception": false,
     "start_time": "2021-08-07T10:04:36.311923",
     "status": "completed"
    },
    "tags": []
   },
   "outputs": [],
   "source": []
  },
  {
   "cell_type": "markdown",
   "id": "1124fefd",
   "metadata": {
    "papermill": {
     "duration": 0.021703,
     "end_time": "2021-08-07T10:04:36.377525",
     "exception": false,
     "start_time": "2021-08-07T10:04:36.355822",
     "status": "completed"
    },
    "tags": []
   },
   "source": []
  },
  {
   "cell_type": "markdown",
   "id": "505c39ef",
   "metadata": {
    "papermill": {
     "duration": 0.021898,
     "end_time": "2021-08-07T10:04:36.421558",
     "exception": false,
     "start_time": "2021-08-07T10:04:36.399660",
     "status": "completed"
    },
    "tags": []
   },
   "source": []
  },
  {
   "cell_type": "markdown",
   "id": "ea684c3e",
   "metadata": {
    "papermill": {
     "duration": 0.021917,
     "end_time": "2021-08-07T10:04:36.465473",
     "exception": false,
     "start_time": "2021-08-07T10:04:36.443556",
     "status": "completed"
    },
    "tags": []
   },
   "source": []
  },
  {
   "cell_type": "code",
   "execution_count": 20,
   "id": "41b2b80d",
   "metadata": {
    "execution": {
     "iopub.execute_input": "2021-08-07T10:04:36.513863Z",
     "iopub.status.busy": "2021-08-07T10:04:36.513277Z",
     "iopub.status.idle": "2021-08-07T10:04:36.516089Z",
     "shell.execute_reply": "2021-08-07T10:04:36.515663Z",
     "shell.execute_reply.started": "2021-08-05T21:47:43.507698Z"
    },
    "papermill": {
     "duration": 0.028661,
     "end_time": "2021-08-07T10:04:36.516240",
     "exception": false,
     "start_time": "2021-08-07T10:04:36.487579",
     "status": "completed"
    },
    "tags": []
   },
   "outputs": [],
   "source": [
    "#from sklearn.utils import resample\n",
    "\n",
    "#y_train.value_counts()\n",
    "#resampl= X_train.copy()\n",
    "#resampl['Potability'] = y_train\n",
    "#majority = resampl[resampl['Potability'] == 0]\n",
    "#minority = resampl[resampl['Potability'] == 1]\n",
    "#minority_up = resample(minority, replace=True, n_samples=1113, random_state = 115)\n",
    "\n"
   ]
  },
  {
   "cell_type": "code",
   "execution_count": 21,
   "id": "2c5b4648",
   "metadata": {
    "execution": {
     "iopub.execute_input": "2021-08-07T10:04:36.565820Z",
     "iopub.status.busy": "2021-08-07T10:04:36.564844Z",
     "iopub.status.idle": "2021-08-07T10:04:36.566991Z",
     "shell.execute_reply": "2021-08-07T10:04:36.567506Z",
     "shell.execute_reply.started": "2021-08-05T21:47:43.525473Z"
    },
    "papermill": {
     "duration": 0.02931,
     "end_time": "2021-08-07T10:04:36.567672",
     "exception": false,
     "start_time": "2021-08-07T10:04:36.538362",
     "status": "completed"
    },
    "tags": []
   },
   "outputs": [],
   "source": [
    "#X_resampled = pd.concat([majority,minority_up])"
   ]
  },
  {
   "cell_type": "code",
   "execution_count": 22,
   "id": "ee998b32",
   "metadata": {
    "execution": {
     "iopub.execute_input": "2021-08-07T10:04:36.615894Z",
     "iopub.status.busy": "2021-08-07T10:04:36.615024Z",
     "iopub.status.idle": "2021-08-07T10:04:36.618045Z",
     "shell.execute_reply": "2021-08-07T10:04:36.618504Z",
     "shell.execute_reply.started": "2021-08-05T21:47:43.54106Z"
    },
    "papermill": {
     "duration": 0.028186,
     "end_time": "2021-08-07T10:04:36.618674",
     "exception": false,
     "start_time": "2021-08-07T10:04:36.590488",
     "status": "completed"
    },
    "tags": []
   },
   "outputs": [],
   "source": [
    "#X_train = X_resampled.drop(columns=['Potability'])\n",
    "#y_train =X_resampled['Potability']"
   ]
  },
  {
   "cell_type": "code",
   "execution_count": 23,
   "id": "b5157d13",
   "metadata": {
    "execution": {
     "iopub.execute_input": "2021-08-07T10:04:36.670576Z",
     "iopub.status.busy": "2021-08-07T10:04:36.669869Z",
     "iopub.status.idle": "2021-08-07T10:04:37.332523Z",
     "shell.execute_reply": "2021-08-07T10:04:37.332034Z",
     "shell.execute_reply.started": "2021-08-05T21:54:27.34617Z"
    },
    "papermill": {
     "duration": 0.69191,
     "end_time": "2021-08-07T10:04:37.332679",
     "exception": false,
     "start_time": "2021-08-07T10:04:36.640769",
     "status": "completed"
    },
    "tags": []
   },
   "outputs": [
    {
     "name": "stdout",
     "output_type": "stream",
     "text": [
      "0.6692111959287532\n"
     ]
    }
   ],
   "source": [
    "from sklearn.ensemble import RandomForestClassifier\n",
    "from sklearn.metrics import accuracy_score\n",
    "clf_rf = RandomForestClassifier()\n",
    "clf_rf.fit(X_train, y_train)\n",
    "y_pred = clf_rf.predict(X_val)\n",
    "accuracy = accuracy_score(y_val, y_pred)\n",
    "print(accuracy)"
   ]
  },
  {
   "cell_type": "code",
   "execution_count": 24,
   "id": "2dd9e383",
   "metadata": {
    "execution": {
     "iopub.execute_input": "2021-08-07T10:04:37.385478Z",
     "iopub.status.busy": "2021-08-07T10:04:37.384803Z",
     "iopub.status.idle": "2021-08-07T10:04:37.617824Z",
     "shell.execute_reply": "2021-08-07T10:04:37.618324Z",
     "shell.execute_reply.started": "2021-08-05T22:01:05.286332Z"
    },
    "papermill": {
     "duration": 0.262925,
     "end_time": "2021-08-07T10:04:37.618499",
     "exception": false,
     "start_time": "2021-08-07T10:04:37.355574",
     "status": "completed"
    },
    "tags": []
   },
   "outputs": [
    {
     "data": {
      "text/plain": [
       "<sklearn.metrics._plot.confusion_matrix.ConfusionMatrixDisplay at 0x7f24c6b010d0>"
      ]
     },
     "execution_count": 24,
     "metadata": {},
     "output_type": "execute_result"
    },
    {
     "data": {
      "image/png": "[encoded data removed]",
      "text/plain": [
       "<Figure size 432x288 with 2 Axes>"
      ]
     },
     "metadata": {
      "needs_background": "light"
     },
     "output_type": "display_data"
    }
   ],
   "source": [
    "from sklearn.metrics import plot_confusion_matrix\n",
    "plot_confusion_matrix(clf_rf, X_val, y_val)"
   ]
  },
  {
   "cell_type": "code",
   "execution_count": 25,
   "id": "02589d10",
   "metadata": {
    "execution": {
     "iopub.execute_input": "2021-08-07T10:04:37.668933Z",
     "iopub.status.busy": "2021-08-07T10:04:37.668015Z",
     "iopub.status.idle": "2021-08-07T10:04:37.678268Z",
     "shell.execute_reply": "2021-08-07T10:04:37.678684Z",
     "shell.execute_reply.started": "2021-08-05T22:15:13.709915Z"
    },
    "papermill": {
     "duration": 0.037112,
     "end_time": "2021-08-07T10:04:37.678860",
     "exception": false,
     "start_time": "2021-08-07T10:04:37.641748",
     "status": "completed"
    },
    "tags": []
   },
   "outputs": [
    {
     "name": "stdout",
     "output_type": "stream",
     "text": [
      "              precision    recall  f1-score   support\n",
      "\n",
      "           0      0.673     0.903     0.772       486\n",
      "           1      0.649     0.290     0.401       300\n",
      "\n",
      "    accuracy                          0.669       786\n",
      "   macro avg      0.661     0.597     0.586       786\n",
      "weighted avg      0.664     0.669     0.630       786\n",
      "\n"
     ]
    }
   ],
   "source": [
    "from sklearn import metrics\n",
    "print(metrics.classification_report( y_val, y_pred, digits=3))"
   ]
  }
 ],
 "metadata": {
  "kernelspec": {
   "display_name": "Python 3",
   "language": "python",
   "name": "python3"
  },
  "language_info": {
   "codemirror_mode": {
    "name": "ipython",
    "version": 3
   },
   "file_extension": ".py",
   "mimetype": "text/x-python",
   "name": "python",
   "nbconvert_exporter": "python",
   "pygments_lexer": "ipython3",
   "version": "3.7.10"
  },
  "papermill": {
   "default_parameters": {},
   "duration": 17.853122,
   "end_time": "2021-08-07T10:04:39.282027",
   "environment_variables": {},
   "exception": null,
   "input_path": "__notebook__.ipynb",
   "output_path": "__notebook__.ipynb",
   "parameters": {},
   "start_time": "2021-08-07T10:04:21.428905",
   "version": "2.3.3"
  }
 },
 "nbformat": 4,
 "nbformat_minor": 5
}
